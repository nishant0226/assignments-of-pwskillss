{
 "cells": [
  {
   "attachments": {},
   "cell_type": "markdown",
   "metadata": {},
   "source": [
    "Multithreading in Python is a technique used to execute multiple threads or tasks concurrently within a single process. Multithreading is used to improve the performance of a program by allowing it to execute multiple tasks concurrently, which can be especially useful for programs that involve I/O operations, such as network or disk I/O, or programs that perform CPU-bound tasks.The threading module is used to handle threads in Python. It provides a simple and intuitive interface for creating and managing threads in Python programs."
   ]
  },
  {
   "attachments": {},
   "cell_type": "markdown",
   "metadata": {},
   "source": [
    "The threading module is used to handle threads in Python. It provides a simple and intuitive interface for creating and managing threads in Python programs\n",
    "\n",
    "activeCount() function is used to get the number of active threads in the current thread's thread object. This function returns the number of Thread objects that are alive. \n",
    "\n",
    "currentThread() function is used to get the current thread object. This function returns a Thread object representing the current thread. It can be used to identify the current thread and access its attributes.\n",
    "\n",
    "enumerate() function is used to get a list of all thread objects that are currently active. \n"
   ]
  },
  {
   "attachments": {},
   "cell_type": "markdown",
   "metadata": {},
   "source": [
    "run() function is called by the start() function to start a new thread. This function should be overridden in a subclass to implement the specific actions of the thread.\n",
    "\n",
    "start() function is used to start a new thread of execution. This function creates a new thread object, assigns the target function to it, and starts the thread's execution.\n",
    "\n",
    "join() function is used to wait for the thread to terminate. This function blocks the calling thread until the thread whose join() method is called terminates or until the optional timeout occurs.\n",
    "\n",
    "isAlive() function is used to check whether the thread is alive. This function returns a boolean value indicating whether the thread is currently executing."
   ]
  },
  {
   "cell_type": "code",
   "execution_count": null,
   "metadata": {},
   "outputs": [],
   "source": [
    "#python program that print the list of squares\n",
    "import threading \n",
    "def sq(n,result):\n",
    "    return result.append(n**2)\n",
    "result=[]\n",
    "thred=[threading.Thread(target=sq,args=(i,result)) for i in [1,2,3,4,5]]\n",
    "for t in thred:\n",
    "    t.start()\n",
    "    t.join()\n",
    "print(result)"
   ]
  },
  {
   "cell_type": "code",
   "execution_count": 2,
   "metadata": {},
   "outputs": [
    {
     "name": "stdout",
     "output_type": "stream",
     "text": [
      "[1, 8, 27, 64, 125]\n"
     ]
    }
   ],
   "source": [
    "#python program that print the list of cubes\n",
    "import threading \n",
    "def cube(n,result):\n",
    "    return result.append(n**3)\n",
    "result=[]\n",
    "thred=[threading.Thread(target=cube,args=(i,result)) for i in [1,2,3,4,5]]\n",
    "for t in thred:\n",
    "    t.start()\n",
    "    t.join()\n",
    "print(result)"
   ]
  },
  {
   "attachments": {},
   "cell_type": "markdown",
   "metadata": {},
   "source": [
    "Advantages of Multithreading:\n",
    "\n",
    "Improved performance: Multithreading allows a program to execute multiple tasks concurrently, which can lead to improved performance and faster execution times, especially for programs that involve I/O operations or CPU-bound tasks.\n",
    "\n",
    "Enhanced responsiveness: Multithreading can make a program more responsive to user input by allowing it to execute multiple tasks simultaneously, while waiting for I/O operations to complete or other tasks to finish.\n",
    "\n",
    "Efficient use of resources: Multithreading allows a program to utilize system resources more efficiently by maximizing the usage of CPU cores and avoiding resource wastage.\n",
    "\n",
    "Simplified programming: Multithreading can make it easier to write complex programs by breaking them down into smaller, more manageable parts, which can be executed concurrently.\n",
    "\n",
    "Disadvantages of Multithreading:\n",
    "\n",
    "Increased complexity: Multithreading adds complexity to a program and can make it harder to write and debug.\n",
    "\n",
    "Race conditions and synchronization issues: Multithreading can introduce race conditions and synchronization issues, where multiple threads access shared resources simultaneously, leading to unexpected behavior and bugs.\n",
    "\n",
    "Overhead: Creating and managing threads incurs overhead, which can affect the overall performance of a program, especially if the threads are short-lived.\n",
    "\n",
    "Deadlocks: Multithreading can lead to deadlocks, where two or more threads wait indefinitely for each other to release a shared resource, causing the program to hang.\n",
    "\n",
    "Overall, the benefits of multithreading outweigh the drawbacks, but it is important to carefully design and implement multithreaded programs to avoid issues such as race conditions, deadlocks, and other synchronization problems."
   ]
  },
  {
   "attachments": {},
   "cell_type": "markdown",
   "metadata": {},
   "source": [
    "Deadlocks and race conditions are two common issues that can occur in multithreaded programs.\n",
    "\n",
    "Deadlock:\n",
    "A deadlock is a situation that arises when two or more threads are waiting indefinitely for each other to release a shared resource, causing the program to hang. Deadlocks occur when threads acquire locks on resources in different orders, which can prevent them from releasing those locks and accessing the resources they need.\n",
    "\n",
    "For example, suppose thread 1 holds a lock on resource A and is waiting for a lock on resource B, while thread 2 holds a lock on resource B and is waiting for a lock on resource A. In this case, both threads will be blocked indefinitely, and the program will hang.\n",
    "\n",
    "Deadlocks can be difficult to detect and resolve, as they often involve complex interactions between multiple threads and shared resources. To avoid deadlocks, it is important to carefully design and implement synchronization mechanisms such as locks, semaphores, and monitors.\n",
    "\n",
    "Race Condition:\n",
    "A race condition is a situation that arises when two or more threads access a shared resource simultaneously, leading to unexpected behavior and bugs. Race conditions occur when multiple threads attempt to modify a shared resource without proper synchronization, which can result in data inconsistencies, corruption, or other errors.\n",
    "\n",
    "For example, suppose two threads attempt to modify the same variable simultaneously without proper synchronization. Depending on the order of execution, the final value of the variable may be different from what was expected, leading to unpredictable behavior.\n",
    "\n",
    "To avoid race conditions, it is important to properly synchronize access to shared resources using locks, semaphores, or other synchronization primitives. Additionally, it is important to design programs in such a way that shared resources are accessed as infrequently as possible, to minimize the risk of race conditions occurring."
   ]
  }
 ],
 "metadata": {
  "kernelspec": {
   "display_name": "Python 3",
   "language": "python",
   "name": "python3"
  },
  "language_info": {
   "codemirror_mode": {
    "name": "ipython",
    "version": 3
   },
   "file_extension": ".py",
   "mimetype": "text/x-python",
   "name": "python",
   "nbconvert_exporter": "python",
   "pygments_lexer": "ipython3",
   "version": "3.11.1"
  },
  "orig_nbformat": 4
 },
 "nbformat": 4,
 "nbformat_minor": 2
}
