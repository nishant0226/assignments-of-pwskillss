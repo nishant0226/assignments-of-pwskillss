{
 "cells": [
  {
   "attachments": {},
   "cell_type": "markdown",
   "metadata": {},
   "source": [
    "1. In Object-Oriented Programming (OOP), a class is a blueprint or a template for creating objects, while an object is an instance of a class. A class defines a set of attributes (data members) and behaviors (member functions) that an object of that class will possess.\n",
    "\n",
    "For example, let's say we want to model a car in our program. We can create a class called \"Car\" that describes the properties and behaviors of a car, such as its make, model, color, and speed. \n",
    "\n",
    "2. The four pillars of OOP's are Inheritance , Encapsulation , Abstraction , Polymorphism \n",
    "\n",
    "3. The __init__() function is a special method in Python classes that is called when an object of the class is created. Its main purpose is to initialize the object's attributes with values that are passed as arguments to the constructor, or with default values if no arguments are provided.\n",
    "class Person:\n",
    "    def __init__(self, name, age):\n",
    "        self.name = name\n",
    "        self.age = age\n",
    "\n",
    "    def say_hello(self):\n",
    "        print(f\"Hello, my name is {self.name} and I'm {self.age} years old.\")\n",
    "\n",
    "person1 = Person(\"Alice\", 25)\n",
    "person1.say_hello()  # Output: Hello, my name is Alice and I'm 25 years old.\n",
    "\n",
    "person2 = Person(\"Bob\", 30)\n",
    "person2.say_hello()  # Output: Hello, my name is Bob and I'm 30 years old.\n",
    "\n",
    "4.  Self is used so the class we're making can know that the methods and fucntions being build inside of it belongs to itself it kind of refers the values/data to class like pointers.\n",
    "\n",
    "5. This topic hasn't been taught yet and online i found it difficult to understand "
   ]
  }
 ],
 "metadata": {
  "kernelspec": {
   "display_name": "Python 3",
   "language": "python",
   "name": "python3"
  },
  "language_info": {
   "codemirror_mode": {
    "name": "ipython",
    "version": 3
   },
   "file_extension": ".py",
   "mimetype": "text/x-python",
   "name": "python",
   "nbconvert_exporter": "python",
   "pygments_lexer": "ipython3",
   "version": "3.11.1"
  },
  "orig_nbformat": 4,
  "vscode": {
   "interpreter": {
    "hash": "5238573367df39f7286bb46f9ff5f08f63a01a80960060ce41e3c79b190280fa"
   }
  }
 },
 "nbformat": 4,
 "nbformat_minor": 2
}
