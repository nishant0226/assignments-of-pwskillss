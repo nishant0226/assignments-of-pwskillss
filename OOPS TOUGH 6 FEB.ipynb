{
 "cells": [
  {
   "cell_type": "code",
   "execution_count": 34,
   "metadata": {},
   "outputs": [
    {
     "name": "stdout",
     "output_type": "stream",
     "text": [
      "[1, 2, 3, 4, 44, 55, 66, 34, 56, 78, 89, 34, 1, 2, 3, 1, 4, 34, 55, 67, 78, 89, 45, 22, 61, 34, 56]\n"
     ]
    },
    {
     "data": {
      "text/plain": [
       "4134711838987085478833841242112000"
      ]
     },
     "execution_count": 34,
     "metadata": {},
     "output_type": "execute_result"
    }
   ],
   "source": [
    "from functools import reduce\n",
    "def product_num(lst):\n",
    "    list_of_ints=[]\n",
    "    for i in lst:\n",
    "        if type(i)==int:\n",
    "            list_of_ints.append(i)\n",
    "        elif type(i)==list:\n",
    "            for j in i:\n",
    "                if type(j)==int:\n",
    "                    list_of_ints.append(j)\n",
    "        elif type(i)==tuple:\n",
    "            list_of_ints=list_of_ints+list(i)\n",
    "        elif type(i)==set:\n",
    "            list_of_ints=list_of_ints+list(i)\n",
    "        elif type(i)==dict:\n",
    "            for keys in i.keys():\n",
    "                if type(keys)==int:\n",
    "                    list_of_ints.append(keys)\n",
    "            for value in i.values() :\n",
    "                if type(value)==int:\n",
    "                    list_of_ints.append(value)\n",
    "                elif type(value)==list or type(value)==tuple :\n",
    "                    for k in value:\n",
    "                        if type(k)==int:\n",
    "                            list_of_ints.append(k)\n",
    "            \n",
    "\n",
    "    print(list_of_ints)    \n",
    "    return reduce(lambda x,y:x*y,list_of_ints)\n",
    "\n",
    "list1 = [1,2,3,4, [44,55,66, True], False, (34,56,78,89,34), {1,2,3,3,2,1}, {1:34, \"key2\": [55, 67, 78, 89], 4: (45,22, 61, 34)}, [56, 'data science'], 'Machine Learning']\n",
    "product_num(list1)"
   ]
  },
  {
   "cell_type": "code",
   "execution_count": 42,
   "metadata": {},
   "outputs": [
    {
     "name": "stdout",
     "output_type": "stream",
     "text": [
      "mrhszmg izmz\n"
     ]
    }
   ],
   "source": [
    "def encrypt(message):\n",
    "    # Create a lookup table that maps each letter to its corresponding encrypted letter\n",
    "    lookup = str.maketrans(\"abcdefghijklmnopqrstuvwxyz \", \"zyxwvutsrqponmlkjihgfedcba$\")\n",
    "    \n",
    "    \n",
    "    # Apply the lookup table to the input message and return the encrypted message\n",
    "    return message.lower().translate(lookup)\n",
    "\n",
    "# Example usage\n",
    "message = input(\"enter the message to be encrypted \")\n",
    "encrypted = encrypt(message)\n",
    "print(encrypted)\n"
   ]
  },
  {
   "cell_type": "code",
   "execution_count": null,
   "metadata": {},
   "outputs": [],
   "source": []
  }
 ],
 "metadata": {
  "kernelspec": {
   "display_name": "Python 3",
   "language": "python",
   "name": "python3"
  },
  "language_info": {
   "codemirror_mode": {
    "name": "ipython",
    "version": 3
   },
   "file_extension": ".py",
   "mimetype": "text/x-python",
   "name": "python",
   "nbconvert_exporter": "python",
   "pygments_lexer": "ipython3",
   "version": "3.11.1"
  },
  "orig_nbformat": 4,
  "vscode": {
   "interpreter": {
    "hash": "5238573367df39f7286bb46f9ff5f08f63a01a80960060ce41e3c79b190280fa"
   }
  }
 },
 "nbformat": 4,
 "nbformat_minor": 2
}
