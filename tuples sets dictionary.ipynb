{
 "cells": [
  {
   "attachments": {},
   "cell_type": "markdown",
   "metadata": {},
   "source": [
    "1. Tuples are Immutable we can't change them. they're initialised by storing info in closed paranthesis like t=(1,\"string\",4.12,True)\n",
    "2. Tuples have .index and .count methods. ex: \n",
    "t=(1,2,4)\n",
    "t.index(1)\n",
    "t.count(2)\n",
    "once a tuple is created, its contents cannot be changed, whereas with a list, you can add, remove, or modify its elements.Because tuples are immutable, they don't need as many built-in functions as lists do.\n",
    "3. Sets do not allow duplicated only unique elements are allowed \n",
    "set(list) here we will typecast and all duplicates will be removed \n",
    "4. The union() method returns a new set containing all the unique elements from two or more sets. It does not modify the original sets.the update() method modifies the original set by adding all the unique elements from one or more sets to it. If a set already contains an element that is being added, it will not be added again.\n",
    "s={1,2,4}\n",
    "s1={3,5,6}\n",
    "print(s.update(s1))\n",
    "print(s.union(s1))\n",
    "5. Dictionary is made of key-value pair initialised by {\"key1\":1,\"key2\",2} dictionaries are ordered \n",
    "6. nested Dictionary can be created d={\"key1\":1,\"key2\":2,\"key4\":4,\"key5\":{4,\"key\",\"key6\",\"str\"}}\n"
   ]
  },
  {
   "cell_type": "code",
   "execution_count": 54,
   "metadata": {},
   "outputs": [
    {
     "name": "stdout",
     "output_type": "stream",
     "text": [
      "{'language': 'Python', 'course': 'Data Science Masters', 'topics': ['Python', 'Machine Learning', 'Deep Learning']}\n"
     ]
    }
   ],
   "source": [
    "#7\n",
    "dict1 = {'language': 'Python', 'course': 'Data Science Masters'}\n",
    "dict1.setdefault('topics', ['Python', 'Machine Learning', 'Deep Learning'])\n",
    "print(dict1)\n"
   ]
  },
  {
   "cell_type": "code",
   "execution_count": 56,
   "metadata": {},
   "outputs": [
    {
     "name": "stdout",
     "output_type": "stream",
     "text": [
      "dict_values(['Cricket', ['India', 'Australia', 'England', 'South Africa', 'Sri Lanka', 'New Zealand']])\n",
      "dict_keys(['Sport', 'Teams'])\n",
      "dict_items([('Sport', 'Cricket'), ('Teams', ['India', 'Australia', 'England', 'South Africa', 'Sri Lanka', 'New Zealand'])])\n"
     ]
    }
   ],
   "source": [
    "#8. \n",
    "#the three view objects in dictionaries are \n",
    "dict1 = {'Sport': 'Cricket' , 'Teams': ['India', 'Australia', 'England', 'South Africa', 'Sri Lanka', 'New Zealand']}\n",
    "print(dict1.values())\n",
    "print(dict1.keys())\n",
    "print(dict1.items())"
   ]
  },
  {
   "cell_type": "code",
   "execution_count": null,
   "metadata": {},
   "outputs": [],
   "source": []
  }
 ],
 "metadata": {
  "kernelspec": {
   "display_name": "Python 3",
   "language": "python",
   "name": "python3"
  },
  "language_info": {
   "codemirror_mode": {
    "name": "ipython",
    "version": 3
   },
   "file_extension": ".py",
   "mimetype": "text/x-python",
   "name": "python",
   "nbconvert_exporter": "python",
   "pygments_lexer": "ipython3",
   "version": "3.11.1"
  },
  "orig_nbformat": 4,
  "vscode": {
   "interpreter": {
    "hash": "5238573367df39f7286bb46f9ff5f08f63a01a80960060ce41e3c79b190280fa"
   }
  }
 },
 "nbformat": 4,
 "nbformat_minor": 2
}
