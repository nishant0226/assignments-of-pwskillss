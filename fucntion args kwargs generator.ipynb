{
 "cells": [
  {
   "attachments": {},
   "cell_type": "markdown",
   "metadata": {},
   "source": [
    "1. def keyword is used to create function . \n",
    "def odd_num():\n",
    "    l=[]\n",
    "    for i in range(1,26):\n",
    "        if i%2!=0:\n",
    "            l.append(i)\n",
    "    return l\n",
    "odd_num()\n",
    "\n",
    "2. *args is used to pass n number of argyements  and **kwargs is used to pass n number of values in form of key value pair \n",
    "def test1(*args,**kwargs):\n",
    "    return *args,**kwargs\n",
    "\n",
    "test1(1,2,43,5,5,a=1111,b=\"Hey BABE\")\n",
    "\n",
    "3. An iterator is an object that you can use to loop over a collection of items one at a time. You can think of it like a conveyor belt that carries one item at a time. You can retrieve each item from the conveyor belt by using the next() method, and you'll know you're done when there are no more items on the belt (which raises a StopIteration exception).\n",
    "l=[2, 4, 6, 8, 10, 12, 14, 16,18, 20]\n",
    "iterator=iter(l)\n",
    "for i in range(5):\n",
    "    element=next(iterator)\n",
    "    print(element )\n",
    "\n",
    "4. A generator function in Python is a special kind of function that returns an iterator, which allows you to iterate over a sequence of values without actually storing them in memory. The yield keyword is used in a generator function to specify where the sequence of values should be generated. \n",
    "\n",
    "def even_numbers():\n",
    "    n = 0\n",
    "    while n < 10:\n",
    "        yield n\n",
    "        n += 2\n",
    "my_generator = even_numbers()\n",
    "for i in my_generator:\n",
    "    print(i)\n",
    "\n",
    "5. #Create a generator function for prime numbers less than 1000. Use the next() method to print the\n",
    "#first 20 prime numbers.\n",
    "def prime_numbers():\n",
    "    n=2    \n",
    "    while n<1000:\n",
    "        is_prime=True\n",
    "        for i in range(2,n):\n",
    "            if n%i==0:\n",
    "                is_prime=False\n",
    "                break   \n",
    "        if is_prime:\n",
    "            yield n\n",
    "        n+=1\n",
    "        \n",
    "my_generator=prime_numbers()     \n",
    "for i in range(20):\n",
    "    print(next(my_generator))"
   ]
  }
 ],
 "metadata": {
  "kernelspec": {
   "display_name": "Python 3",
   "language": "python",
   "name": "python3"
  },
  "language_info": {
   "codemirror_mode": {
    "name": "ipython",
    "version": 3
   },
   "file_extension": ".py",
   "mimetype": "text/x-python",
   "name": "python",
   "nbconvert_exporter": "python",
   "pygments_lexer": "ipython3",
   "version": "3.11.1"
  },
  "orig_nbformat": 4,
  "vscode": {
   "interpreter": {
    "hash": "5238573367df39f7286bb46f9ff5f08f63a01a80960060ce41e3c79b190280fa"
   }
  }
 },
 "nbformat": 4,
 "nbformat_minor": 2
}
