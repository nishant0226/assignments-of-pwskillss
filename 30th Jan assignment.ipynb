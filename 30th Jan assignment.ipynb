{
 "cells": [
  {
   "cell_type": "code",
   "execution_count": 68,
   "metadata": {},
   "outputs": [
    {
     "name": "stdout",
     "output_type": "stream",
     "text": [
      "Grade B\n"
     ]
    }
   ],
   "source": [
    "percent=int(input(\"enter the percentage \"))\n",
    "if percent>90:\n",
    "    print(\"Grade A\")\n",
    "elif percent>80 and percent<=90:\n",
    "    print(\"Grade B\")\n",
    "elif percent>=60 and percent<=80:\n",
    "    print(\"Grade C\")\n",
    "elif percent<60:\n",
    "    print(\"Grade D\")"
   ]
  },
  {
   "cell_type": "code",
   "execution_count": 73,
   "metadata": {},
   "outputs": [
    {
     "name": "stdout",
     "output_type": "stream",
     "text": [
      "Tax: 5000.0\n"
     ]
    }
   ],
   "source": [
    "cost_price=int(input(\"enter the cost price of bike  \"))\n",
    "if cost_price>100000:\n",
    "    tax=0.15*100000\n",
    "    print(\"Tax:\",tax)\n",
    "elif cost_price>50000 and cost_price<=100000:\n",
    "    tax=0.10*100000\n",
    "    print(\"Tax:\",tax)\n",
    "elif cost_price<50000:\n",
    "    tax=0.05*100000\n",
    "    print(\"Tax:\",tax)"
   ]
  },
  {
   "cell_type": "code",
   "execution_count": 76,
   "metadata": {},
   "outputs": [
    {
     "name": "stdout",
     "output_type": "stream",
     "text": [
      "Red Fort\n"
     ]
    }
   ],
   "source": [
    "city=input(\"\"\"enter city:\n",
    "Delhi \n",
    "Agra\n",
    "Jaipur\n",
    "    \"\"\")\n",
    "if city==\"Delhi\":\n",
    "    print(\"Red Fort\")\n",
    "elif city==\"Agra\":\n",
    "    print(\"Taj Mahal\")\n",
    "elif city==\"Jaipur\":\n",
    "    print(\"Jal Mahal\")"
   ]
  },
  {
   "cell_type": "code",
   "execution_count": 80,
   "metadata": {},
   "outputs": [
    {
     "name": "stdout",
     "output_type": "stream",
     "text": [
      "1\n"
     ]
    }
   ],
   "source": [
    "n=int(input(\"enter the number\"))\n",
    "count=0\n",
    "while n%3==0 and n>=10:\n",
    "    n=n%3\n",
    "    count+=1\n",
    "print(count)"
   ]
  },
  {
   "attachments": {},
   "cell_type": "markdown",
   "metadata": {},
   "source": [
    "while loop is used for recusrion over a condition until that condition is false loop will run itself continously "
   ]
  },
  {
   "cell_type": "code",
   "execution_count": null,
   "metadata": {},
   "outputs": [],
   "source": [
    "num = 10\n",
    "while num >= 1:\n",
    "    print(num)\n",
    "    num -= 1\n"
   ]
  }
 ],
 "metadata": {
  "kernelspec": {
   "display_name": "Python 3",
   "language": "python",
   "name": "python3"
  },
  "language_info": {
   "codemirror_mode": {
    "name": "ipython",
    "version": 3
   },
   "file_extension": ".py",
   "mimetype": "text/x-python",
   "name": "python",
   "nbconvert_exporter": "python",
   "pygments_lexer": "ipython3",
   "version": "3.11.1"
  },
  "orig_nbformat": 4,
  "vscode": {
   "interpreter": {
    "hash": "5238573367df39f7286bb46f9ff5f08f63a01a80960060ce41e3c79b190280fa"
   }
  }
 },
 "nbformat": 4,
 "nbformat_minor": 2
}
