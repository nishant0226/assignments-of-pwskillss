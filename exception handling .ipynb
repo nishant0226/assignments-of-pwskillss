{
 "cells": [
  {
   "attachments": {},
   "cell_type": "markdown",
   "metadata": {},
   "source": [
    "An exception in Python is an error that occurs during the execution of a program. Exceptions are raised when an error or exceptional condition is encountered that the code cannot handle. When an exception is raised, the Python interpreter looks for a handler to catch the exception and handle it appropriately.difference between exceptions and syntax errors in Python is that exceptions are runtime errors that occur when the code is executed, while syntax errors are detected by the Python interpreter during parsing of the code and prevent the code from being executed at all. Syntax errors occur when the code violates the rules of the Python language, such as a missing parenthesis, a misspelled keyword, or an invalid syntax."
   ]
  },
  {
   "attachments": {},
   "cell_type": "markdown",
   "metadata": {},
   "source": [
    "When an exception is not handled in Python, it will propagate up the call stack until it reaches the top-level of the program, at which point the program will terminate and display an error message that includes the traceback of the exception. This can result in unexpected behavior and crashes, as well as data loss or corruption if the exception occurs during file I/O or other critical operations.\n",
    "def divide(a, b):\n",
    "    return a / b\n",
    "\n",
    "result = divide(4, 0)\n",
    "\n"
   ]
  },
  {
   "attachments": {},
   "cell_type": "markdown",
   "metadata": {},
   "source": [
    "try is used to catch the exceptions and excpet block is used to handle excpetions\n",
    "try:\n",
    "    def divide(a, b):\n",
    "        return a / b\n",
    "    divide(4,0)\n",
    "except Exception as e:\n",
    "    print(\"code has issue\",e)"
   ]
  },
  {
   "attachments": {},
   "cell_type": "markdown",
   "metadata": {},
   "source": [
    "try:\n",
    "    def add(a,b):\n",
    "        return a+b\n",
    "    z=add(1,2,4)\n",
    "    print(z)\n",
    "except Exception as e:\n",
    "    print(\"there's issue\",e)\n",
    "\n",
    "else:\n",
    "    print(\"success\")\n",
    "finally:\n",
    "    print(\"no matter i'll run \")"
   ]
  },
  {
   "attachments": {},
   "cell_type": "markdown",
   "metadata": {},
   "source": [
    "custom excpetions are created by user that inherit from the built-in Exception class or one of its subclasses. these are created when exceptions are for user but for system it is not We need custom exceptions in Python when we want to handle specific errors or exceptional conditions that are not covered by the built-in exception types. Custom exceptions can be useful in situations where you want to provide more detailed information about the error, or when you want to handle a specific error in a special way.\n",
    "class ValidationError(Exception):\n",
    "    def __init__(self, message):\n",
    "        self.message = message\n",
    "\n",
    "def validate_email(email):\n",
    "    if '@' not in email:\n",
    "        raise ValidationError('Invalid email address')\n",
    "\n",
    "email = input('Enter your email address: ')\n",
    "try:\n",
    "    validate_email(email)\n",
    "    print('Email address is valid')\n",
    "except ValidationError as e:\n",
    "    print('Error:', e.message)\n",
    "\n"
   ]
  },
  {
   "attachments": {},
   "cell_type": "markdown",
   "metadata": {},
   "source": [
    "class ValidationError(Exception):\n",
    "    def __init__(self, message):\n",
    "        self.message = message\n",
    "\n",
    "def validate_email(email):\n",
    "    if '@' not in email:\n",
    "        raise ValidationError('Invalid email address')\n",
    "\n",
    "email = input('Enter your email address: ')\n",
    "try:\n",
    "    validate_email(email)\n",
    "    print('Email address is valid')\n",
    "except ValidationError as e:\n",
    "    print('Error:', e.message)"
   ]
  }
 ],
 "metadata": {
  "kernelspec": {
   "display_name": "Python 3",
   "language": "python",
   "name": "python3"
  },
  "language_info": {
   "name": "python",
   "version": "3.11.1"
  },
  "orig_nbformat": 4,
  "vscode": {
   "interpreter": {
    "hash": "5238573367df39f7286bb46f9ff5f08f63a01a80960060ce41e3c79b190280fa"
   }
  }
 },
 "nbformat": 4,
 "nbformat_minor": 2
}
