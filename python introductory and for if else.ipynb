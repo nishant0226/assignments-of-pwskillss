{
 "cells": [
  {
   "cell_type": "code",
   "execution_count": null,
   "metadata": {},
   "outputs": [],
   "source": [
    "1 Python was developed by Guido Van Rossum \n",
    "2 Supports object-oriented and dynamically types programming\n",
    "3 Yes python is case sensitive \n",
    "4  .py is correct extension\n",
    "5  Interpreted \n",
    "6  def python \n",
    "7  # is used to give single line comment\n",
    "8 python.version \n",
    "9 lambda is used\n",
    "10 pip stands for Pip Installs Packages\n",
    "11 type(), int , str , def , class these all are built-in fucntions\n",
    "12 79 characters\n",
    "13 vast library , dynamically typed and easy to learn \n",
    "14 Python uses automatic memory management, also known as garbage collection, to manage memory. This means that the Python interpreter automatically allocates memory for objects as they are created and deallocates memory when the objects are no longer needed.\n",
    "15 we have to download and install python first we have to download path and install it then an IDE\n",
    "16 YES indentation is required \n",
    "\n"
   ]
  },
  {
   "cell_type": "code",
   "execution_count": null,
   "metadata": {},
   "outputs": [],
   "source": [
    "#ASSIGNMENT FOR 1 FEB\n",
    "###############################################Create a list of only the prime numbers from a given list\n",
    "##numbers = [1, 2, 3, 4, 5, 6, 7, 8, 9, 10]\n",
    "\n",
    "numbers = [1,2, 3, 4, 5, 6, 7, 8, 9, 10]\n",
    "prime_in_list = []\n",
    "\n",
    "for num in numbers:\n",
    "    if num>1:\n",
    "        for i in range(2,num):\n",
    "            if num%i==0:\n",
    "                break\n",
    "        else:\n",
    "            prime_in_list.append(num)\n",
    "\n",
    "print(prime_in_list)\n",
    "\n",
    ">>>>>>>>>>>>>>>>>>>>>>>>>>>>>>>>>Create a list of all the possible combinations of 2 elements from a list\n",
    "numbers = [1, 2, 3, 4, 5]\n",
    "\n",
    "numbers = [1, 2, 3, 4, 5]\n",
    "for i in numbers:\n",
    "    for j in range(1,i+1):\n",
    "        print(f'({i},{j})')"
   ]
  }
 ],
 "metadata": {
  "language_info": {
   "name": "python"
  },
  "orig_nbformat": 4
 },
 "nbformat": 4,
 "nbformat_minor": 2
}
