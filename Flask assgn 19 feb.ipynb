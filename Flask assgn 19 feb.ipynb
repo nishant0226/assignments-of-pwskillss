{
 "cells": [
  {
   "attachments": {},
   "cell_type": "markdown",
   "metadata": {},
   "source": [
    "Flask is a Python web framework that allows developers to quickly build web applications. It is a lightweight and flexible framework that does not require particular tools or libraries, making it easy to learn and use.\n",
    "\n",
    "Advantages of Flask Framework:\n",
    "\n",
    "Lightweight: Flask is a lightweight framework that provides only the basic tools necessary for building a web application. This makes it a great choice for small and medium-sized projects.\n",
    "\n",
    "Flexibility: Flask is a very flexible framework that allows developers to add or remove features as needed. This makes it easy to customize and adapt to specific project requirements.\n",
    "\n",
    "Easy to learn: Flask is easy to learn and use, thanks to its simple and intuitive API. Even developers with little experience in web development can quickly get up to speed with Flask.\n",
    "\n",
    "Integrated testing: Flask includes built-in support for testing, making it easy to write unit tests and integration tests for your application.\n",
    "\n",
    "Extensible: Flask is extensible, which means that developers can easily add third-party libraries or tools to their projects. This makes it easy to integrate Flask with other tools and services.\n",
    "\n",
    "Good documentation: Flask has excellent documentation that is easy to follow and includes many examples and code snippets. This makes it easy for developers to learn and use Flask.\n",
    "\n",
    "Large community: Flask has a large and active community of developers who contribute to the framework and provide support and guidance to others. This means that there are many resources available for developers who are using Flask."
   ]
  },
  {
   "attachments": {},
   "cell_type": "markdown",
   "metadata": {},
   "source": [
    "from flask import Flask\n",
    "app = Flask(__name__)\n",
    "\n",
    "@app.route(\"/\")\n",
    "def hello_world():\n",
    "    return \"Hello, World\"\n",
    "@app.route(\"/lol\")\n",
    "def my_func():\n",
    "    a= 1+1\n",
    "    return f\"This is made by me {a}\"\n",
    "\n",
    "if __name__==\"__main__\":\n",
    "    app.run(host=\"0.0.0.0\")"
   ]
  },
  {
   "attachments": {},
   "cell_type": "markdown",
   "metadata": {},
   "source": [
    "App routing in Flask is the process of mapping URLs (or routes) to the appropriate functions in your Flask application. This is done using the @app.route decorator in your Python code.\n",
    "\n",
    "For example, if you have a Flask application with two functions: home() and about(), you can map them to different URLs as follows:\n",
    "\n",
    "\n",
    "from flask import Flask\n",
    "\n",
    "app = Flask(__name__)\n",
    "\n",
    "@app.route('/')\n",
    "def home():\n",
    "    return 'This is the home page'\n",
    "\n",
    "@app.route('/about')\n",
    "def about():\n",
    "    return 'This is the about page'\n",
    "\n",
    "if __name__ == '__main__':\n",
    "    app.run()\n",
    "In this code, we have mapped the home() function to the root URL (/) and the about() function to the /about URL. When a user navigates to http://localhost:5000/, Flask will call the home() function and return the string 'This is the home page'. When a user navigates to http://localhost:5000/about, Flask will call the about() function and return the string 'This is the about page'.\n",
    "\n",
    "We use app routes in Flask to create a clear and organized structure for our web application. By mapping URLs to functions, we can create a logical and intuitive structure for our application's pages and functionality.\n",
    "\n",
    "Additionally, app routes allow us to create RESTful APIs, which can be used to communicate with our application from other programs or services. By mapping URLs to specific functions, we can create a simple and consistent API for our application, making it easy to use and integrate with other systems."
   ]
  },
  {
   "attachments": {},
   "cell_type": "markdown",
   "metadata": {},
   "source": [
    "from flask import Flask\n",
    "\n",
    "app = Flask(__name__)\n",
    "\n",
    "@app.route('/welcome')\n",
    "def welcome():\n",
    "    return 'Welcome to ABC Corporation'\n",
    "\n",
    "@app.route('/')\n",
    "def home():\n",
    "    return 'Company Name: ABC Corporation<br>Location: India<br>Contact Detail: 999-999-9999'\n",
    "\n",
    "if __name__ == '__main__':\n",
    "    app.run()\n"
   ]
  },
  {
   "attachments": {},
   "cell_type": "markdown",
   "metadata": {},
   "source": [
    "from flask import Flask, url_for\n",
    "\n",
    "app = Flask(__name__)\n",
    "\n",
    "@app.route('/user/<username>')\n",
    "def profile(username):\n",
    "    return f'Hello, {username}!'\n",
    "\n",
    "if __name__ == '__main__':\n",
    "    with app.test_request_context():\n",
    "        # generate a URL for the 'profile' function\n",
    "        url = url_for('profile', username='john')\n",
    "        print(url)  # will print '/user/john'\n"
   ]
  },
  {
   "cell_type": "code",
   "execution_count": 9,
   "metadata": {},
   "outputs": [
    {
     "name": "stdout",
     "output_type": "stream",
     "text": [
      "/user/john\n"
     ]
    }
   ],
   "source": []
  }
 ],
 "metadata": {
  "kernelspec": {
   "display_name": "Python 3",
   "language": "python",
   "name": "python3"
  },
  "language_info": {
   "codemirror_mode": {
    "name": "ipython",
    "version": 3
   },
   "file_extension": ".py",
   "mimetype": "text/x-python",
   "name": "python",
   "nbconvert_exporter": "python",
   "pygments_lexer": "ipython3",
   "version": "3.11.1"
  },
  "orig_nbformat": 4
 },
 "nbformat": 4,
 "nbformat_minor": 2
}
