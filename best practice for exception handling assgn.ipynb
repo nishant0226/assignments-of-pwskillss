{
 "cells": [
  {
   "attachments": {},
   "cell_type": "markdown",
   "metadata": {},
   "source": [
    "In Python, all built-in and user-defined exceptions must be derived from the Exception class or one of its subclasses. This is because Exception is the base class for all built-in exceptions, and it provides a common interface for handling and raising exceptions in Python.\n",
    "\n",
    "When we define a custom exception in Python, we are essentially creating a new type of exception that is specific to our application or domain. By inheriting from the Exception class or one of its subclasses, we ensure that our custom exception inherits all of the standard behaviors and attributes of the built-in exceptions."
   ]
  },
  {
   "attachments": {},
   "cell_type": "markdown",
   "metadata": {},
   "source": [
    "# Use help() to print the Python Exception Hierarchy\n",
    "help(Exception)\n"
   ]
  },
  {
   "attachments": {},
   "cell_type": "markdown",
   "metadata": {},
   "source": [
    "The ArithmeticError class is a built-in Python exception class that is raised for errors that occur during arithmetic operations. It is the base class for several other built-in exception classes that are related to arithmetic errors\n",
    "a = 5\n",
    "b = 0\n",
    "try:\n",
    "    result = a / b\n",
    "except ZeroDivisionError as e:\n",
    "    print(\"Error:\", e)\n",
    "\n",
    "a = 2 ** 10000000\n",
    "\n",
    "try:\n",
    "    result = a * a\n",
    "    print(a)\n",
    "except OverflowError and ValueError as e:\n",
    "    print(\"Error:\", e)\n"
   ]
  },
  {
   "attachments": {},
   "cell_type": "markdown",
   "metadata": {},
   "source": [
    "The LookupError class is used in Python to handle errors related to searching or accessing an element in a sequence or mapping object. It is the base class for two commonly used error classes: KeyError and IndexError.\n",
    "my_dict = {'a': 1, 'b': 2, 'c': 3}\n",
    "print(my_dict['d'])  # raises KeyError: 'd'\n",
    "my_list = [1, 2, 3]\n",
    "print(my_list[3])  # raises IndexError: list index out of range\n"
   ]
  },
  {
   "attachments": {},
   "cell_type": "markdown",
   "metadata": {},
   "source": [
    "In Python, ImportError is raised when a module, package, or object cannot be imported due to an error in the import statement or the imported module itself. This error typically occurs when Python cannot locate the module or package, or when the module or package has a syntax error or other issues that prevent it from being loaded properly.\n",
    "import nonexistent_module\n",
    "ModuleNotFoundError: No module named 'nonexistent_module'\n"
   ]
  },
  {
   "attachments": {},
   "cell_type": "markdown",
   "metadata": {},
   "source": [
    "Use specific exception types: When handling exceptions, it's important to use the most specific exception type possible. This makes it easier to debug and maintain the code, as well as providing a more informative error message to the user. For example, instead of catching a generic Exception, catch a more specific exception like ValueError or TypeError.\n",
    "\n",
    "Handle exceptions at the appropriate level: Exceptions should be handled at the appropriate level of abstraction in your code. For example, if an exception is raised in a lower-level function, it should be caught and handled at that level, rather than being propagated up to the higher-level function.\n",
    "\n",
    "Use try-except-finally blocks: Use try-except-finally blocks to handle exceptions in your code. The try block contains the code that may raise an exception, the except block handles the exception if it occurs, and the finally block contains code that should be executed regardless of whether an exception was raised or not.\n",
    "\n",
    "Log exceptions: Always log exceptions when they occur, along with any relevant information that may be useful for debugging. This helps you identify and fix issues in your code more quickly.\n",
    "\n",
    "Don't ignore exceptions: Never ignore exceptions in your code. Even if you don't know how to handle an exception, it's better to log the exception and exit gracefully, rather than allowing the program to continue running in an unknown state.\n",
    "\n",
    "Use context managers: Use context managers to handle resources that need to be cleaned up after use, such as file handles or database connections. This ensures that resources are released even if an exception occurs."
   ]
  }
 ],
 "metadata": {
  "kernelspec": {
   "display_name": "Python 3",
   "language": "python",
   "name": "python3"
  },
  "language_info": {
   "codemirror_mode": {
    "name": "ipython",
    "version": 3
   },
   "file_extension": ".py",
   "mimetype": "text/x-python",
   "name": "python",
   "nbconvert_exporter": "python",
   "pygments_lexer": "ipython3",
   "version": "3.11.1"
  },
  "orig_nbformat": 4,
  "vscode": {
   "interpreter": {
    "hash": "5238573367df39f7286bb46f9ff5f08f63a01a80960060ce41e3c79b190280fa"
   }
  }
 },
 "nbformat": 4,
 "nbformat_minor": 2
}
